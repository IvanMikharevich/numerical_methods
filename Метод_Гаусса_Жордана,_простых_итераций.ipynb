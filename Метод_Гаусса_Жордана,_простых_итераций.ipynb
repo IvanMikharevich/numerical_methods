{
  "nbformat": 4,
  "nbformat_minor": 0,
  "metadata": {
    "colab": {
      "name": "Метод Гаусса - Жордана, простых итераций.ipynb",
      "provenance": [],
      "collapsed_sections": []
    },
    "kernelspec": {
      "name": "python3",
      "display_name": "Python 3"
    }
  },
  "cells": [
    {
      "cell_type": "markdown",
      "metadata": {
        "id": "3FpgjWg8eK06"
      },
      "source": [
        "![image.png](data:image/png;base64,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)"
      ]
    },
    {
      "cell_type": "code",
      "metadata": {
        "id": "f8cKlMKjW_YP"
      },
      "source": [
        "import numpy as np\n",
        "A = np.array(([2, 0.47, -0.11, 0.55], [0.42, 1, 0.35, 0.17], [-0.25, 0.67, 2, 0.36], [0.54, -0.32, -0.74, 2]))\n",
        "b = np.array(([1.33], [1.29], [2.11], [0.10]))"
      ],
      "execution_count": null,
      "outputs": []
    },
    {
      "cell_type": "markdown",
      "metadata": {
        "id": "PVmmiX-0XlE6"
      },
      "source": [
        "Ответ:"
      ]
    },
    {
      "cell_type": "code",
      "metadata": {
        "colab": {
          "base_uri": "https://localhost:8080/"
        },
        "id": "inkWpkJAXqcf",
        "outputId": "12acbbf6-de5a-43db-c2ca-341683924388"
      },
      "source": [
        "np.linalg.solve(A, b)"
      ],
      "execution_count": null,
      "outputs": [
        {
          "output_type": "execute_result",
          "data": {
            "text/plain": [
              "array([[0.43028294],\n",
              "       [0.77472376],\n",
              "       [0.78647348],\n",
              "       [0.3487746 ]])"
            ]
          },
          "metadata": {
            "tags": []
          },
          "execution_count": 2
        }
      ]
    },
    {
      "cell_type": "markdown",
      "metadata": {
        "id": "5_Sbo73wQ1Ta"
      },
      "source": [
        "# Метод Гаусса — Жордана\n"
      ]
    },
    {
      "cell_type": "markdown",
      "metadata": {
        "id": "KWbLxJnETzH_"
      },
      "source": [
        "Зафиксируем сиды, выберем размер матрицы и заполним случайными int в заданом диапазоне, \n",
        "\n",
        "переведем тип элементов матрицы в float и найдем длину матрицы - 1"
      ]
    },
    {
      "cell_type": "code",
      "metadata": {
        "colab": {
          "base_uri": "https://localhost:8080/"
        },
        "id": "Fs_prkUMQSXV",
        "outputId": "6c8aa1c6-73dd-4870-84e2-b88b0d0a2cbd"
      },
      "source": [
        "np.random.seed(1)\n",
        "size = 5\n",
        "a = np.hstack((A, b))\n",
        "print(a)\n",
        "a = a.astype(np.float32)\n",
        "n = len(a) - 1"
      ],
      "execution_count": null,
      "outputs": [
        {
          "output_type": "stream",
          "text": [
            "[[ 2.    0.47 -0.11  0.55  1.33]\n",
            " [ 0.42  1.    0.35  0.17  1.29]\n",
            " [-0.25  0.67  2.    0.36  2.11]\n",
            " [ 0.54 -0.32 -0.74  2.    0.1 ]]\n"
          ],
          "name": "stdout"
        }
      ]
    },
    {
      "cell_type": "markdown",
      "metadata": {
        "id": "W7DwdsGDRwpO"
      },
      "source": [
        "Прямой ход:\n",
        "\n",
        "1) Все элементы первой строки делят на верхний элемент выбранного столбца.\n",
        "\n",
        "2) Из оставшихся строк вычитают первую строку, умноженную на первый элемент соответствующей строки, с целью получить первым элементом каждой строки (кроме первой) ноль.\n",
        "\n",
        "3) Далее проводят такую же процедуру с матрицей, получающейся из исходной матрицы после вычёркивания первой строки и первого столбца.\n",
        "\n",
        "4) После повторения этой процедуры len-1 раз получают верхнюю треугольную матрицу"
      ]
    },
    {
      "cell_type": "code",
      "metadata": {
        "colab": {
          "base_uri": "https://localhost:8080/"
        },
        "id": "bblkUBq1Qhtu",
        "outputId": "e9fb72c4-d3d0-415e-c544-906b232d1028"
      },
      "source": [
        "for i in range(n+1):\n",
        "    a[i] = a[i] / a[i, i]\n",
        "    for k in range(n - i):\n",
        "        a[k + 1 + i] = a[k + 1 + i] - a[i] * a[k + 1 + i, i]\n",
        "print(a)"
      ],
      "execution_count": null,
      "outputs": [
        {
          "output_type": "stream",
          "text": [
            "[[ 1.          0.235      -0.055       0.275       0.665     ]\n",
            " [ 0.          1.          0.4139576   0.06046822  1.1213802 ]\n",
            " [ 0.          0.          1.          0.22835612  0.8661182 ]\n",
            " [ 0.          0.          0.          1.          0.34877458]]\n"
          ],
          "name": "stdout"
        }
      ]
    },
    {
      "cell_type": "markdown",
      "metadata": {
        "id": "QpkDzV0CSs7d"
      },
      "source": [
        "Сведем к единичной матрице:\n",
        "\n",
        "5) Вычитают из предпоследней строки последнюю строку, умноженную на соответствующий коэффициент, с тем, чтобы в предпоследней строке осталась только 1 на главной диагонали.\n",
        "\n",
        "6)Повторяют предыдущий шаг для последующих строк. В итоге получают единичную матрицу и решение на месте свободного вектора (с ним необходимо проводить все те же преобразования)."
      ]
    },
    {
      "cell_type": "code",
      "metadata": {
        "colab": {
          "base_uri": "https://localhost:8080/"
        },
        "id": "cXyvh7JeQkMy",
        "outputId": "0d7adf98-9341-4fc9-8558-6c560a2ca8eb"
      },
      "source": [
        "for i in range(n):\n",
        "    s = 0\n",
        "    while s < n-i:\n",
        "        a[s] = a[s] - a[n - i] * a[s, n - i]\n",
        "        s += 1\n",
        "print(a)"
      ],
      "execution_count": null,
      "outputs": [
        {
          "output_type": "stream",
          "text": [
            "[[1.         0.         0.         0.         0.430283  ]\n",
            " [0.         1.         0.         0.         0.77472377]\n",
            " [0.         0.         1.         0.         0.7864734 ]\n",
            " [0.         0.         0.         1.         0.34877458]]\n"
          ],
          "name": "stdout"
        }
      ]
    },
    {
      "cell_type": "markdown",
      "metadata": {
        "id": "6qYWXcSPS7Yr"
      },
      "source": [
        "Окончательный ответ:"
      ]
    },
    {
      "cell_type": "code",
      "metadata": {
        "colab": {
          "base_uri": "https://localhost:8080/"
        },
        "id": "mALolDpwQoZO",
        "outputId": "69d9f2cc-858f-436f-8f85-91d8855ac0db"
      },
      "source": [
        "ans = a[ : ,n + 1]\n",
        "print(ans)"
      ],
      "execution_count": null,
      "outputs": [
        {
          "output_type": "stream",
          "text": [
            "[0.430283   0.77472377 0.7864734  0.34877458]\n"
          ],
          "name": "stdout"
        }
      ]
    },
    {
      "cell_type": "markdown",
      "metadata": {
        "id": "XRNrWblqYdw6"
      },
      "source": [
        "# Метод простых итераций"
      ]
    },
    {
      "cell_type": "markdown",
      "metadata": {
        "id": "1oyiGf94J3R5"
      },
      "source": [
        "Броблема с b, на выходе из ядра остается непреобразованым"
      ]
    },
    {
      "cell_type": "code",
      "metadata": {
        "colab": {
          "base_uri": "https://localhost:8080/"
        },
        "id": "Yi73hKC-Y023",
        "outputId": "c2abbe48-cc1b-4eab-d3f4-4483b3530911"
      },
      "source": [
        "import numpy as np\n",
        "from numpy import linalg as la\n",
        "import sys\n",
        "\n",
        "A = np.array(([2, 0.47, -0.11, 0.55], [0.42, 1, 0.35, 0.17], [-0.25, 0.67, 2, 0.36], [0.54, -0.32, -0.74, 2]))\n",
        "b = np.array(([1.33], [1.29], [2.11], [0.10]))\n",
        "shp = len(A)\n",
        "\n",
        "if np.linalg.det(A) == 0:\n",
        "  print('Матрица вырождена')\n",
        "  sys.exit()\n",
        "else:\n",
        "  print('Матрица не вырождена')\n",
        "\n",
        "B, c =  np.empty([shp, shp]), np.empty([shp, 1])\n",
        "for i in range(shp):\n",
        "  B[i, :] = -A[i, :]/A[i, i]\n",
        "  c[i] = b[i]/A[i, i]\n",
        "np.fill_diagonal(B, 0)\n",
        "print(f'норма B = {np.linalg.norm(B)}')"
      ],
      "execution_count": null,
      "outputs": [
        {
          "output_type": "stream",
          "text": [
            "Матрица не вырождена\n",
            "норма B = 0.9259184629328869\n"
          ],
          "name": "stdout"
        }
      ]
    },
    {
      "cell_type": "code",
      "metadata": {
        "colab": {
          "base_uri": "https://localhost:8080/"
        },
        "id": "xLwf43_TARPF",
        "outputId": "3a1bb2ae-685e-41c0-e583-da6aabdc1771"
      },
      "source": [
        "x, e, bl, check, i = c, 0.001, True, [], 0\n",
        "\n",
        "while bl: \n",
        "  x = np.dot(B, x) + c\n",
        "  if i > 0:\n",
        "    _check = la.norm(B)*la.norm(x - _last)/(1-la.norm(B)) \n",
        "    bl = (e <= _check)\n",
        "    check.append(_check)\n",
        "  _last = x\n",
        "  i += 1\n",
        "print(f'Решение сошлось на {i}-ой итерации')\n",
        "print(x)"
      ],
      "execution_count": null,
      "outputs": [
        {
          "output_type": "stream",
          "text": [
            "Решение сошлось на 10-ой итерации\n",
            "[[0.43030499]\n",
            " [0.77472242]\n",
            " [0.78649552]\n",
            " [0.34877723]]\n"
          ],
          "name": "stdout"
        }
      ]
    },
    {
      "cell_type": "code",
      "metadata": {
        "colab": {
          "base_uri": "https://localhost:8080/",
          "height": 282
        },
        "id": "USXS8nwDAvtM",
        "outputId": "483e6eee-0499-4ff2-9dc4-2385c11dda34"
      },
      "source": [
        "from matplotlib import pyplot as plt\n",
        "plt.plot([x+1 for x in range(len(check))], check)"
      ],
      "execution_count": null,
      "outputs": [
        {
          "output_type": "execute_result",
          "data": {
            "text/plain": [
              "[<matplotlib.lines.Line2D at 0x7fbb95eb5790>]"
            ]
          },
          "metadata": {
            "tags": []
          },
          "execution_count": 9
        },
        {
          "output_type": "display_data",
          "data": {
            "image/png": "[encoded data removed]",
            "text/plain": [
              "<Figure size 432x288 with 1 Axes>"
            ]
          },
          "metadata": {
            "tags": [],
            "needs_background": "light"
          }
        }
      ]
    }
  ]
}