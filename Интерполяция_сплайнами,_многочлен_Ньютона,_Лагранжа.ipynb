{
  "nbformat": 4,
  "nbformat_minor": 0,
  "metadata": {
    "colab": {
      "name": "Интерполяция сплайнами, многочлен Ньютона, Лагранжа.ipynb",
      "provenance": [],
      "collapsed_sections": []
    },
    "kernelspec": {
      "name": "python3",
      "display_name": "Python 3"
    }
  },
  "cells": [
    {
      "cell_type": "markdown",
      "metadata": {
        "id": "tQZLl6Q3EEsk"
      },
      "source": [
        "# Пакетное решение"
      ]
    },
    {
      "cell_type": "code",
      "metadata": {
        "colab": {
          "base_uri": "https://localhost:8080/",
          "height": 282
        },
        "id": "LOGMkr4qawyP",
        "outputId": "07c2b2c6-f0f3-4921-87a7-b2ab764215ca"
      },
      "source": [
        "X = [1.340, 1.345, 1.350, 1.355, 1.360, 1.365]\n",
        "Y = [4.26, 4.35, 4.46, 4.56, 4.67, 4.79]\n",
        "\n",
        "X_1 = 1.352\n",
        "\n",
        "import matplotlib.pyplot as plt\n",
        "plt.plot(X, Y)\n",
        "\n",
        "from scipy.interpolate import interp1d\n",
        "\n",
        "f1 = interp1d(X, Y,kind = 'linear')\n",
        "f2 = interp1d(X, Y, kind = 'cubic')\n",
        "\n",
        "print(f1(X_1), f2(X_1))"
      ],
      "execution_count": null,
      "outputs": [
        {
          "output_type": "stream",
          "text": [
            "4.500000000000001 4.500533333333333\n"
          ],
          "name": "stdout"
        },
        {
          "output_type": "display_data",
          "data": {
            "image/png": "[encoded data removed]",
            "text/plain": [
              "<Figure size 432x288 with 1 Axes>"
            ]
          },
          "metadata": {
            "tags": [],
            "needs_background": "light"
          }
        }
      ]
    },
    {
      "cell_type": "markdown",
      "metadata": {
        "id": "Kav6ZtAnbvt8"
      },
      "source": [
        "# Многочлен Ньютона"
      ]
    },
    {
      "cell_type": "code",
      "metadata": {
        "colab": {
          "base_uri": "https://localhost:8080/"
        },
        "id": "4vY7pqQYVhAz",
        "outputId": "d4ffba68-853d-4edd-f3b7-8e824cd5bd08"
      },
      "source": [
        "def coef(x, y):\n",
        "  '''x : list of data points\n",
        "      y : list of f(x)  '''\n",
        "\n",
        "  n = len(x)\n",
        "  a = y\n",
        "\n",
        "  for j in range(1, n):\n",
        "      for i in range(n-1, j-1, -1):\n",
        "          a[i] = float(a[i]-a[i-1])/float(x[i]-x[i-j])\n",
        "  \n",
        "  return a # return an array of coefficient\n",
        "\n",
        "def Eval(a, x, r):\n",
        "\n",
        "  ''' a : list returned by function coef()\n",
        "    x : list of data points\n",
        "    r : the node to interpolate at  '''\n",
        "    \n",
        "  n = len( a ) - 1\n",
        "  temp = a[n] + (r - x[n])\n",
        "  for i in range( n - 1, -1, -1 ):\n",
        "      temp = temp * (r - x[i]) + a[i]\n",
        "  return temp # return the y_value interpolation\n",
        "\n",
        "\n",
        "print(Eval(coef(X, Y), X, X_1))"
      ],
      "execution_count": null,
      "outputs": [
        {
          "output_type": "stream",
          "text": [
            "4.500447359999948\n"
          ],
          "name": "stdout"
        }
      ]
    },
    {
      "cell_type": "markdown",
      "metadata": {
        "id": "2E_vx72Ab4g1"
      },
      "source": [
        "# Многочлен Лагранжа"
      ]
    },
    {
      "cell_type": "code",
      "metadata": {
        "id": "LBQTChS_j0N1",
        "colab": {
          "base_uri": "https://localhost:8080/"
        },
        "outputId": "ab57d7c2-c669-4f41-86f8-ad85fb4a0a7d"
      },
      "source": [
        "def lagrang(X, Y, X_1):\n",
        "  rang = len(X)\n",
        "  summa = 0\n",
        "  for i in range(rang):\n",
        "    mult_1, mult_2 = 1, 1\n",
        "    for k in range(rang - 1):\n",
        "      if k != i:\n",
        "        mult_1 = mult_1*(X_1 - X[k])\n",
        "        mult_2 = mult_2*(X[i] - X[k])\n",
        "      else:\n",
        "        pass\n",
        "    summa = summa + Y[i]*mult_1/mult_2 \n",
        "  return summa\n",
        "\n",
        "lagrang(X, Y, X_1)"
      ],
      "execution_count": null,
      "outputs": [
        {
          "output_type": "execute_result",
          "data": {
            "text/plain": [
              "4.55270208"
            ]
          },
          "metadata": {
            "tags": []
          },
          "execution_count": 13
        }
      ]
    },
    {
      "cell_type": "markdown",
      "metadata": {
        "id": "KgeOzqTmb_2_"
      },
      "source": [
        "# Интерполирование сплайнами"
      ]
    },
    {
      "cell_type": "code",
      "metadata": {
        "colab": {
          "base_uri": "https://localhost:8080/",
          "height": 218
        },
        "id": "colzyYr7Tnpo",
        "outputId": "88f86ae6-7aca-4544-fa26-ef02d839b27d"
      },
      "source": [
        "# Структура, описывающая сплайн на каждом сегменте сетки\n",
        "class SplineTuple:\n",
        "    def __init__(self, a, b, c, d, x):\n",
        "        self.a = a\n",
        "        self.b = b\n",
        "        self.c = c\n",
        "        self.d = d\n",
        "        self.x = x\n",
        " \n",
        "# Построение сплайна\n",
        "# x - узлы сетки, должны быть упорядочены по возрастанию, кратные узлы запрещены\n",
        "# y - значения функции в узлах сетки\n",
        "# n - количество узлов сетки\n",
        "def BuildSpline(x, y, n):\n",
        "    # Инициализация массива сплайнов\n",
        "    splines = [SplineTuple(0, 0, 0, 0, 0) for _ in range(0, n)]\n",
        "    for i in range(0, n):\n",
        "        splines[i].x = x[i]\n",
        "        splines[i].a = y[i]\n",
        "    \n",
        "    splines[0].c = splines[n - 1].c = 0.0\n",
        "    \n",
        "    # Решение СЛАУ относительно коэффициентов сплайнов c[i] методом прогонки для трехдиагональных матриц\n",
        "    # Вычисление прогоночных коэффициентов - прямой ход метода прогонки\n",
        "    alpha = [0.0 for _ in range(0, n - 1)]\n",
        "    beta  = [0.0 for _ in range(0, n - 1)]\n",
        " \n",
        "    for i in range(1, n - 1):\n",
        "        hi  = x[i] - x[i - 1]\n",
        "        hi1 = x[i + 1] - x[i]\n",
        "        A = hi\n",
        "        C = 2.0 * (hi + hi1)\n",
        "        B = hi1\n",
        "        F = 6.0 * ((y[i + 1] - y[i]) / hi1 - (y[i] - y[i - 1]) / hi)\n",
        "        z = (A * alpha[i - 1] + C)\n",
        "        alpha[i] = -B / z\n",
        "        beta[i] = (F - A * beta[i - 1]) / z\n",
        "  \n",
        " \n",
        "    # Нахождение решения - обратный ход метода прогонки\n",
        "    for i in range(n - 2, 0, -1):\n",
        "        splines[i].c = alpha[i] * splines[i + 1].c + beta[i]\n",
        "    \n",
        "    # По известным коэффициентам c[i] находим значения b[i] и d[i]\n",
        "    for i in range(n - 1, 0, -1):\n",
        "        hi = x[i] - x[i - 1]\n",
        "        splines[i].d = (splines[i].c - splines[i - 1].c) / hi\n",
        "        splines[i].b = hi * (2.0 * splines[i].c + splines[i - 1].c) / 6.0 + (y[i] - y[i - 1]) / hi\n",
        "    return splines\n",
        " \n",
        " \n",
        "# Вычисление значения интерполированной функции в произвольной точке\n",
        "def Interpolate(splines, x):\n",
        "    if not splines:\n",
        "        return None # Если сплайны ещё не построены - возвращаем NaN\n",
        "    \n",
        "    n = len(splines)\n",
        "    s = SplineTuple(0, 0, 0, 0, 0)\n",
        "    \n",
        "    if x <= splines[0].x: # Если x меньше точки сетки x[0] - пользуемся первым эл-тов массива\n",
        "        s = splines[0]\n",
        "    elif x >= splines[n - 1].x: # Если x больше точки сетки x[n - 1] - пользуемся последним эл-том массива\n",
        "        s = splines[n - 1]\n",
        "    else: # Иначе x лежит между граничными точками сетки - производим бинарный поиск нужного эл-та массива\n",
        "        i = 0\n",
        "        j = n - 1\n",
        "        while i + 1 < j:\n",
        "            k = i + (j - i) // 2\n",
        "            if x <= splines[k].x:\n",
        "                j = k\n",
        "            else:\n",
        "                i = k\n",
        "        s = splines[j]\n",
        "    \n",
        "    dx = x - s.x\n",
        "    # Вычисляем значение сплайна в заданной точке по схеме Горнера (в принципе, \"умный\" компилятор применил бы схему Горнера сам, но ведь не все так умны, как кажутся)\n",
        "    return s.a + (s.b + (s.c / 2.0 + s.d * dx / 6.0) * dx) * dx;\n",
        "    \n",
        "spline = BuildSpline(X, Y, 6)\n",
        "print(Interpolate(spline, X_1))"
      ],
      "execution_count": null,
      "outputs": [
        {
          "output_type": "error",
          "ename": "NameError",
          "evalue": "ignored",
          "traceback": [
            "\u001b[0;31m---------------------------------------------------------------------------\u001b[0m",
            "\u001b[0;31mNameError\u001b[0m                                 Traceback (most recent call last)",
            "\u001b[0;32m<ipython-input-1-0b5b904bc5d2>\u001b[0m in \u001b[0;36m<module>\u001b[0;34m()\u001b[0m\n\u001b[1;32m     77\u001b[0m     \u001b[0;32mreturn\u001b[0m \u001b[0ms\u001b[0m\u001b[0;34m.\u001b[0m\u001b[0ma\u001b[0m \u001b[0;34m+\u001b[0m \u001b[0;34m(\u001b[0m\u001b[0ms\u001b[0m\u001b[0;34m.\u001b[0m\u001b[0mb\u001b[0m \u001b[0;34m+\u001b[0m \u001b[0;34m(\u001b[0m\u001b[0ms\u001b[0m\u001b[0;34m.\u001b[0m\u001b[0mc\u001b[0m \u001b[0;34m/\u001b[0m \u001b[0;36m2.0\u001b[0m \u001b[0;34m+\u001b[0m \u001b[0ms\u001b[0m\u001b[0;34m.\u001b[0m\u001b[0md\u001b[0m \u001b[0;34m*\u001b[0m \u001b[0mdx\u001b[0m \u001b[0;34m/\u001b[0m \u001b[0;36m6.0\u001b[0m\u001b[0;34m)\u001b[0m \u001b[0;34m*\u001b[0m \u001b[0mdx\u001b[0m\u001b[0;34m)\u001b[0m \u001b[0;34m*\u001b[0m \u001b[0mdx\u001b[0m\u001b[0;34m;\u001b[0m\u001b[0;34m\u001b[0m\u001b[0;34m\u001b[0m\u001b[0m\n\u001b[1;32m     78\u001b[0m \u001b[0;34m\u001b[0m\u001b[0m\n\u001b[0;32m---> 79\u001b[0;31m \u001b[0mspline\u001b[0m \u001b[0;34m=\u001b[0m \u001b[0mBuildSpline\u001b[0m\u001b[0;34m(\u001b[0m\u001b[0mX\u001b[0m\u001b[0;34m,\u001b[0m \u001b[0mY\u001b[0m\u001b[0;34m,\u001b[0m \u001b[0;36m6\u001b[0m\u001b[0;34m)\u001b[0m\u001b[0;34m\u001b[0m\u001b[0;34m\u001b[0m\u001b[0m\n\u001b[0m\u001b[1;32m     80\u001b[0m \u001b[0mprint\u001b[0m\u001b[0;34m(\u001b[0m\u001b[0mInterpolate\u001b[0m\u001b[0;34m(\u001b[0m\u001b[0mspline\u001b[0m\u001b[0;34m,\u001b[0m \u001b[0mX_1\u001b[0m\u001b[0;34m)\u001b[0m\u001b[0;34m)\u001b[0m\u001b[0;34m\u001b[0m\u001b[0;34m\u001b[0m\u001b[0m\n",
            "\u001b[0;31mNameError\u001b[0m: name 'X' is not defined"
          ]
        }
      ]
    }
  ]
}