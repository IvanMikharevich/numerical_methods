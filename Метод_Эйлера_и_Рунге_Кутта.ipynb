{
  "nbformat": 4,
  "nbformat_minor": 0,
  "metadata": {
    "colab": {
      "name": "Метод Эйлера и Рунге-Кутта.ipynb",
      "provenance": [],
      "collapsed_sections": []
    },
    "kernelspec": {
      "name": "python3",
      "display_name": "Python 3"
    },
    "language_info": {
      "name": "python"
    }
  },
  "cells": [
    {
      "cell_type": "markdown",
      "metadata": {
        "id": "QZgr6btoXBJ7"
      },
      "source": [
        "# Решение ОДУ 1-го порядка методом Эйлера"
      ]
    },
    {
      "cell_type": "code",
      "metadata": {
        "colab": {
          "base_uri": "https://localhost:8080/",
          "height": 1000
        },
        "id": "9vGzKhjTTsyX",
        "outputId": "e1cb8e90-15a1-4110-e4e0-fcc2adbf3d09"
      },
      "source": [
        "from math import cos, pi, sin, exp\n",
        "\n",
        "def func(x, y):\n",
        "  return -y + sin(x)*exp(-0.1*x)\n",
        "\n",
        "a, b, h = 0, 10, 0.1\n",
        "n = (b - a) / h\n",
        "y = 5.3\n",
        "\n",
        "_x, _y = [], []\n",
        "\n",
        "for i in range(int(n)):\n",
        "  x = a + h*i\n",
        "  _x.append(x)\n",
        "  y = y + h*func(x, y)\n",
        "  _y.append(y)\n",
        "  print(i, round(y, 3))\n",
        "\n",
        "import matplotlib.pyplot as plt \n",
        "plt.plot(_x, _y)\n",
        "\n",
        "stand_x = _x\n",
        "stand_y = _y"
      ],
      "execution_count": null,
      "outputs": [
        {
          "output_type": "stream",
          "text": [
            "0 4.77\n",
            "1 4.303\n",
            "2 3.892\n",
            "3 3.532\n",
            "4 3.216\n",
            "5 2.94\n",
            "6 2.699\n",
            "7 2.489\n",
            "8 2.306\n",
            "9 2.147\n",
            "10 2.009\n",
            "11 1.888\n",
            "12 1.782\n",
            "13 1.688\n",
            "14 1.605\n",
            "15 1.53\n",
            "16 1.462\n",
            "17 1.4\n",
            "18 1.341\n",
            "19 1.285\n",
            "20 1.231\n",
            "21 1.178\n",
            "22 1.125\n",
            "23 1.072\n",
            "24 1.018\n",
            "25 0.963\n",
            "26 0.906\n",
            "27 0.848\n",
            "28 0.789\n",
            "29 0.728\n",
            "30 0.665\n",
            "31 0.602\n",
            "32 0.537\n",
            "33 0.472\n",
            "34 0.407\n",
            "35 0.342\n",
            "36 0.277\n",
            "37 0.212\n",
            "38 0.149\n",
            "39 0.088\n",
            "40 0.028\n",
            "41 -0.029\n",
            "42 -0.083\n",
            "43 -0.135\n",
            "44 -0.182\n",
            "45 -0.226\n",
            "46 -0.267\n",
            "47 -0.302\n",
            "48 -0.334\n",
            "49 -0.361\n",
            "50 -0.383\n",
            "51 -0.4\n",
            "52 -0.413\n",
            "53 -0.42\n",
            "54 -0.423\n",
            "55 -0.422\n",
            "56 -0.416\n",
            "57 -0.405\n",
            "58 -0.391\n",
            "59 -0.372\n",
            "60 -0.35\n",
            "61 -0.325\n",
            "62 -0.297\n",
            "63 -0.267\n",
            "64 -0.234\n",
            "65 -0.199\n",
            "66 -0.163\n",
            "67 -0.126\n",
            "68 -0.088\n",
            "69 -0.051\n",
            "70 -0.013\n",
            "71 0.024\n",
            "72 0.06\n",
            "73 0.095\n",
            "74 0.129\n",
            "75 0.16\n",
            "76 0.189\n",
            "77 0.216\n",
            "78 0.24\n",
            "79 0.262\n",
            "80 0.28\n",
            "81 0.295\n",
            "82 0.307\n",
            "83 0.316\n",
            "84 0.321\n",
            "85 0.323\n",
            "86 0.322\n",
            "87 0.317\n",
            "88 0.31\n",
            "89 0.299\n",
            "90 0.286\n",
            "91 0.271\n",
            "92 0.252\n",
            "93 0.232\n",
            "94 0.21\n",
            "95 0.186\n",
            "96 0.161\n",
            "97 0.134\n",
            "98 0.107\n",
            "99 0.079\n"
          ],
          "name": "stdout"
        },
        {
          "output_type": "display_data",
          "data": {
            "image/png": "[encoded data removed]",
            "text/plain": [
              "<Figure size 432x288 with 1 Axes>"
            ]
          },
          "metadata": {
            "tags": [],
            "needs_background": "light"
          }
        }
      ]
    },
    {
      "cell_type": "markdown",
      "metadata": {
        "id": "e-b75I1IXeXF"
      },
      "source": [
        "# Метод Рунге-Кутта 4-го порядка"
      ]
    },
    {
      "cell_type": "code",
      "metadata": {
        "colab": {
          "base_uri": "https://localhost:8080/",
          "height": 1000
        },
        "id": "9wgm0nQjXnKN",
        "outputId": "732f4197-7dfa-4a81-ecd3-5efe6eb22ea6"
      },
      "source": [
        "y = 5.3\n",
        "_x, _y = [], []\n",
        "for i in range(int(n)):\n",
        "  x = a + h * i\n",
        "  _x.append(x)\n",
        "  k1 = h * func(x, y)\n",
        "  k2 = h * func(x + h / 2, y + k1 / 2)\n",
        "  k3 = h * func(x + h / 2, y + k2 / 2)\n",
        "  k4 = h * func(x + h, y + k3)\n",
        "  dy = (k1 + 2 * k2 + 2 * k3 + k4) / 6\n",
        "  y = y + dy\n",
        "  _y.append(y)\n",
        "  print(i, round(y, 3))\n",
        "\n",
        "import matplotlib.pyplot as plt \n",
        "plt.plot(_x, _y)"
      ],
      "execution_count": null,
      "outputs": [
        {
          "output_type": "stream",
          "text": [
            "0 4.8\n",
            "1 4.358\n",
            "2 3.966\n",
            "3 3.62\n",
            "4 3.315\n",
            "5 3.047\n",
            "6 2.811\n",
            "7 2.604\n",
            "8 2.422\n",
            "9 2.262\n",
            "10 2.121\n",
            "11 1.996\n",
            "12 1.886\n",
            "13 1.788\n",
            "14 1.699\n",
            "15 1.619\n",
            "16 1.545\n",
            "17 1.477\n",
            "18 1.412\n",
            "19 1.35\n",
            "20 1.291\n",
            "21 1.232\n",
            "22 1.174\n",
            "23 1.116\n",
            "24 1.057\n",
            "25 0.997\n",
            "26 0.937\n",
            "27 0.875\n",
            "28 0.812\n",
            "29 0.749\n",
            "30 0.684\n",
            "31 0.618\n",
            "32 0.552\n",
            "33 0.485\n",
            "34 0.418\n",
            "35 0.352\n",
            "36 0.286\n",
            "37 0.222\n",
            "38 0.158\n",
            "39 0.097\n",
            "40 0.038\n",
            "41 -0.019\n",
            "42 -0.073\n",
            "43 -0.124\n",
            "44 -0.171\n",
            "45 -0.214\n",
            "46 -0.253\n",
            "47 -0.288\n",
            "48 -0.319\n",
            "49 -0.345\n",
            "50 -0.366\n",
            "51 -0.383\n",
            "52 -0.395\n",
            "53 -0.402\n",
            "54 -0.404\n",
            "55 -0.402\n",
            "56 -0.396\n",
            "57 -0.386\n",
            "58 -0.371\n",
            "59 -0.353\n",
            "60 -0.331\n",
            "61 -0.307\n",
            "62 -0.279\n",
            "63 -0.249\n",
            "64 -0.217\n",
            "65 -0.183\n",
            "66 -0.148\n",
            "67 -0.112\n",
            "68 -0.076\n",
            "69 -0.039\n",
            "70 -0.003\n",
            "71 0.033\n",
            "72 0.068\n",
            "73 0.101\n",
            "74 0.133\n",
            "75 0.163\n",
            "76 0.191\n",
            "77 0.216\n",
            "78 0.239\n",
            "79 0.259\n",
            "80 0.276\n",
            "81 0.29\n",
            "82 0.301\n",
            "83 0.309\n",
            "84 0.313\n",
            "85 0.314\n",
            "86 0.312\n",
            "87 0.307\n",
            "88 0.299\n",
            "89 0.289\n",
            "90 0.275\n",
            "91 0.259\n",
            "92 0.241\n",
            "93 0.221\n",
            "94 0.199\n",
            "95 0.176\n",
            "96 0.151\n",
            "97 0.125\n",
            "98 0.098\n",
            "99 0.071\n"
          ],
          "name": "stdout"
        },
        {
          "output_type": "execute_result",
          "data": {
            "text/plain": [
              "[<matplotlib.lines.Line2D at 0x7f3fd48aac10>]"
            ]
          },
          "metadata": {
            "tags": []
          },
          "execution_count": 31
        },
        {
          "output_type": "display_data",
          "data": {
            "image/png": "[encoded data removed]",
            "text/plain": [
              "<Figure size 432x288 with 1 Axes>"
            ]
          },
          "metadata": {
            "tags": [],
            "needs_background": "light"
          }
        }
      ]
    },
    {
      "cell_type": "markdown",
      "metadata": {
        "id": "HxrENvymbhkY"
      },
      "source": [
        "# Модифицированный метод Эйлера с пересчетом\n"
      ]
    },
    {
      "cell_type": "code",
      "metadata": {
        "colab": {
          "base_uri": "https://localhost:8080/",
          "height": 1000
        },
        "id": "dhcd7qRZbVaD",
        "outputId": "db5b86dd-a6a7-4d78-acd7-1fe3d0a72820"
      },
      "source": [
        "y = 5.3\n",
        "_x, _y = [], []\n",
        "for i in range(int(n)):\n",
        "  x = a + h*i\n",
        "  _x.append(x)\n",
        "  y = (h / 2) * (func(x, y) + func(x + h, y + h * func(x, y))) + y\n",
        "  _y.append(y)\n",
        "  print(i, round(y, 3))\n",
        "\n",
        "import matplotlib.pyplot as plt \n",
        "plt.plot(_x, _y)"
      ],
      "execution_count": null,
      "outputs": [
        {
          "output_type": "stream",
          "text": [
            "0 4.801\n",
            "1 4.359\n",
            "2 3.968\n",
            "3 3.623\n",
            "4 3.319\n",
            "5 3.05\n",
            "6 2.815\n",
            "7 2.607\n",
            "8 2.425\n",
            "9 2.265\n",
            "10 2.124\n",
            "11 2.0\n",
            "12 1.889\n",
            "13 1.791\n",
            "14 1.702\n",
            "15 1.621\n",
            "16 1.548\n",
            "17 1.479\n",
            "18 1.414\n",
            "19 1.352\n",
            "20 1.292\n",
            "21 1.233\n",
            "22 1.175\n",
            "23 1.117\n",
            "24 1.058\n",
            "25 0.998\n",
            "26 0.938\n",
            "27 0.876\n",
            "28 0.813\n",
            "29 0.749\n",
            "30 0.684\n",
            "31 0.618\n",
            "32 0.552\n",
            "33 0.485\n",
            "34 0.419\n",
            "35 0.352\n",
            "36 0.287\n",
            "37 0.222\n",
            "38 0.159\n",
            "39 0.097\n",
            "40 0.038\n",
            "41 -0.018\n",
            "42 -0.072\n",
            "43 -0.123\n",
            "44 -0.17\n",
            "45 -0.213\n",
            "46 -0.252\n",
            "47 -0.287\n",
            "48 -0.318\n",
            "49 -0.344\n",
            "50 -0.365\n",
            "51 -0.382\n",
            "52 -0.394\n",
            "53 -0.401\n",
            "54 -0.403\n",
            "55 -0.401\n",
            "56 -0.395\n",
            "57 -0.385\n",
            "58 -0.37\n",
            "59 -0.352\n",
            "60 -0.33\n",
            "61 -0.306\n",
            "62 -0.278\n",
            "63 -0.248\n",
            "64 -0.216\n",
            "65 -0.183\n",
            "66 -0.148\n",
            "67 -0.112\n",
            "68 -0.075\n",
            "69 -0.039\n",
            "70 -0.003\n",
            "71 0.033\n",
            "72 0.068\n",
            "73 0.101\n",
            "74 0.133\n",
            "75 0.163\n",
            "76 0.191\n",
            "77 0.216\n",
            "78 0.239\n",
            "79 0.259\n",
            "80 0.276\n",
            "81 0.29\n",
            "82 0.301\n",
            "83 0.308\n",
            "84 0.313\n",
            "85 0.314\n",
            "86 0.312\n",
            "87 0.307\n",
            "88 0.299\n",
            "89 0.288\n",
            "90 0.275\n",
            "91 0.259\n",
            "92 0.241\n",
            "93 0.221\n",
            "94 0.199\n",
            "95 0.175\n",
            "96 0.15\n",
            "97 0.124\n",
            "98 0.098\n",
            "99 0.071\n"
          ],
          "name": "stdout"
        },
        {
          "output_type": "execute_result",
          "data": {
            "text/plain": [
              "[<matplotlib.lines.Line2D at 0x7f3fd45dfad0>]"
            ]
          },
          "metadata": {
            "tags": []
          },
          "execution_count": 24
        },
        {
          "output_type": "display_data",
          "data": {
            "image/png": "[encoded data removed]",
            "text/plain": [
              "<Figure size 432x288 with 1 Axes>"
            ]
          },
          "metadata": {
            "tags": [],
            "needs_background": "light"
          }
        }
      ]
    },
    {
      "cell_type": "markdown",
      "metadata": {
        "id": "qjHKGcoOcdIp"
      },
      "source": [
        "# Решение ОДУ 1-го порядка методом Эйлера с уменьшенным шагом"
      ]
    },
    {
      "cell_type": "code",
      "metadata": {
        "colab": {
          "base_uri": "https://localhost:8080/",
          "height": 829
        },
        "id": "pcl9aJk7cp5D",
        "outputId": "d4866446-2925-493c-d88f-cd101cfa1fcb"
      },
      "source": [
        "a, b, h = 0, 10, 1\n",
        "h = h / 2\n",
        "n = (b - a) / h\n",
        "y = 5.3\n",
        "_x, _y = [], []\n",
        "for i in range(int(n)):\n",
        "  x = a + h*i\n",
        "  _x.append(x)\n",
        "  y = y + h*func(x, y)\n",
        "  _y.append(y)\n",
        "  print(i, round(y, 3))\n",
        "\n",
        "\n",
        "print(200*'#')\n",
        "import matplotlib.pyplot as plt \n",
        "plt.plot(_x, _y)\n",
        "\n",
        "variance = []\n",
        "j = 0\n",
        "for i in range(len(_x)):\n",
        "  if i % 2 == 1:\n",
        "    _val = round(abs(stand_y[j] - _y[i]), 3)\n",
        "    variance.append(_val)\n",
        "    print(j, _val)\n",
        "    j = j + 1\n",
        "  else:\n",
        "    pass\n",
        " \n",
        "print(stand_x, variance)"
      ],
      "execution_count": null,
      "outputs": [
        {
          "output_type": "stream",
          "text": [
            "0 2.65\n",
            "1 1.553\n",
            "2 1.157\n",
            "3 1.008\n",
            "4 0.876\n",
            "5 0.671\n",
            "6 0.388\n",
            "7 0.07\n",
            "8 -0.218\n",
            "9 -0.421\n",
            "10 -0.501\n",
            "11 -0.454\n",
            "12 -0.304\n",
            "13 -0.096\n",
            "14 0.115\n",
            "15 0.279\n",
            "16 0.362\n",
            "17 0.352\n",
            "18 0.26\n",
            "19 0.115\n",
            "########################################################################################################################################################################################################\n",
            "0 3.217\n",
            "1 3.295\n",
            "2 3.221\n",
            "3 3.461\n",
            "4 3.637\n",
            "5 3.394\n",
            "6 2.795\n",
            "7 2.21\n",
            "8 1.955\n",
            "9 2.032\n",
            "[0.0, 0.1, 0.2, 0.30000000000000004, 0.4, 0.5, 0.6000000000000001, 0.7000000000000001, 0.8, 0.9, 1.0, 1.1, 1.2000000000000002, 1.3, 1.4000000000000001, 1.5, 1.6, 1.7000000000000002, 1.8, 1.9000000000000001, 2.0, 2.1, 2.2, 2.3000000000000003, 2.4000000000000004, 2.5, 2.6, 2.7, 2.8000000000000003, 2.9000000000000004, 3.0, 3.1, 3.2, 3.3000000000000003, 3.4000000000000004, 3.5, 3.6, 3.7, 3.8000000000000003, 3.9000000000000004, 4.0, 4.1000000000000005, 4.2, 4.3, 4.4, 4.5, 4.6000000000000005, 4.7, 4.800000000000001, 4.9, 5.0, 5.1000000000000005, 5.2, 5.300000000000001, 5.4, 5.5, 5.6000000000000005, 5.7, 5.800000000000001, 5.9, 6.0, 6.1000000000000005, 6.2, 6.300000000000001, 6.4, 6.5, 6.6000000000000005, 6.7, 6.800000000000001, 6.9, 7.0, 7.1000000000000005, 7.2, 7.300000000000001, 7.4, 7.5, 7.6000000000000005, 7.7, 7.800000000000001, 7.9, 8.0, 8.1, 8.200000000000001, 8.3, 8.4, 8.5, 8.6, 8.700000000000001, 8.8, 8.9, 9.0, 9.1, 9.200000000000001, 9.3, 9.4, 9.5, 9.600000000000001, 9.700000000000001, 9.8, 9.9] [3.217, 3.295, 3.221, 3.461, 3.637, 3.394, 2.795, 2.21, 1.955, 2.032]\n"
          ],
          "name": "stdout"
        },
        {
          "output_type": "display_data",
          "data": {
            "image/png": "[encoded data removed]",
            "text/plain": [
              "<Figure size 432x288 with 1 Axes>"
            ]
          },
          "metadata": {
            "tags": [],
            "needs_background": "light"
          }
        }
      ]
    }
  ]
}